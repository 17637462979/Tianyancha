{
  "cells": [
    {
      "cell_type": "code",
      "source": [
        "import tkinter as tk\n",
        "\n",
        "class Application(tk.Frame):\n",
        "    def __init__(self, master=None):\n",
        "        tk.Frame.__init__(self, master)\n",
        "        self.pack()\n",
        "        self.createWidgets()\n",
        "\n",
        "    def createWidgets(self):\n",
        "        self.hi_there = tk.Button(self)\n",
        "        self.hi_there[\"text\"] = \"Hello World\\n(click me)\"\n",
        "        self.hi_there[\"command\"] = self.say_hi\n",
        "        self.hi_there.pack(side=\"top\")\n",
        "\n",
        "        self.QUIT = tk.Button(self, text=\"QUIT\", fg=\"red\", command=root.destroy)\n",
        "        self.QUIT.pack(side=\"bottom\")\n",
        "\n",
        "    def say_hi(self):\n",
        "        print(\"hi there, everyone!\")\n",
        "\n",
        "root = tk.Tk()\n",
        "app = Application(master=root)\n",
        "app.mainloop()"
      ],
      "outputs": [
        {
          "output_type": "stream",
          "name": "stdout",
          "text": [
            "hi there, everyone!\n",
            "hi there, everyone!\n"
          ]
        }
      ],
      "execution_count": 4,
      "metadata": {
        "collapsed": false,
        "outputHidden": false,
        "inputHidden": false
      }
    },
    {
      "cell_type": "code",
      "source": [
        "from tkinter import *\n",
        "\n",
        "class Application(Frame):\n",
        "    def say_hi(self):\n",
        "        print(\"hi there, everyone!\")\n",
        "\n",
        "    def createWidgets(self):\n",
        "        self.QUIT = Button(self)\n",
        "        self.QUIT[\"text\"] = \"QUIT\"\n",
        "        self.QUIT[\"fg\"] = \"red\"\n",
        "        self.QUIT[\"command\"] = self.quit\n",
        "\n",
        "        self.QUIT.pack({\"side\": \"left\"})\n",
        "\n",
        "        self.hi_there = Button(self)\n",
        "        self.hi_there[\"text\"] = \"Hello\",\n",
        "        self.hi_there[\"command\"] = self.say_hi\n",
        "\n",
        "        self.hi_there.pack({\"side\": \"left\"})\n",
        "\n",
        "    def __init__(self, master=None):\n",
        "        Frame.__init__(self, master)\n",
        "        self.pack()\n",
        "        self.createWidgets()\n",
        "\n",
        "root = Tk()\n",
        "app = Application(master=root)\n",
        "app.mainloop()\n",
        "root.destroy()"
      ],
      "outputs": [
        {
          "output_type": "stream",
          "name": "stdout",
          "text": [
            "hi there, everyone!\n"
          ]
        }
      ],
      "execution_count": 5,
      "metadata": {
        "collapsed": false,
        "outputHidden": false,
        "inputHidden": false
      }
    },
    {
      "cell_type": "code",
      "source": [
        "import tkinter as tk\n",
        "\n",
        "class MainWindow():\n",
        "    def __init__(self, parent):\n",
        "        top = self.top = tk.Toplevel(parent)\n",
        "        self.myLabel = tk.Label(top, text='Enter a Grouping Name')\n",
        "        self.myLabel.pack()\n",
        "        self.myEntryBox = tk.Entry(top)\n",
        "        self.myEntryBox.focus_set()\n",
        "        self.myEntryBox.pack()\n",
        "        self.mySubmitButton = tk.Button(top, text='OK', command=self.DestWin)\n",
        "        self.mySubmitButton.pack()\n",
        "    def DestWin(self):\n",
        "        # call callback function setting value in MyFrame\n",
        "        self.callback(self.myEntryBox.get())\n",
        "        self.top.destroy()\n",
        "\n\n",
        "    def set_callback(self, a_func):\n",
        "        self.callback = a_func\n",
        "\n\n\n",
        "class MyFrame(tk.Frame):\n",
        "    def __init__(self, parent, **kwargs):\n",
        "        super().__init__(parent, **kwargs)\n",
        "        self.pack()\n",
        "\n",
        "        self.myLabel1 = tk.Label(parent, text='Click OK to enter the group name')\n",
        "        self.myLabel1.pack()\n",
        "        self.mySubmitButton1 = tk.Button(parent, text='OK', command=self.get_group_name)\n",
        "        self.mySubmitButton1.pack()\n",
        "\n",
        "    def get_group_name(self):\n",
        "        mw = MainWindow(None)\n",
        "\n",
        "        # provide callback to MainWindow so that it can return results to MyFrame\n",
        "        mw.set_callback(self.set_label)\n",
        "\n\n\n",
        "    def set_label(self, astr = ''):\n",
        "        self.myLabel1['text'] = astr\n",
        "\n\n\n\n\n",
        "root = tk.Tk()\n",
        "\n",
        "mf = MyFrame(root)\n"
      ],
      "outputs": [],
      "execution_count": 7,
      "metadata": {
        "collapsed": false,
        "outputHidden": false,
        "inputHidden": false
      }
    },
    {
      "cell_type": "code",
      "source": [
        "##!/usr/bin/env python\n",
        "\n",
        "import tkinter as Tk\n",
        "\n\n",
        "class App(object):\n",
        "    def __init__(self):\n",
        "        self.root = Tk.Tk()\n",
        "        self.root.wm_title(\"Question 7\")\n",
        "        self.label = Tk.Label(self.root, text=\"Enter your weight in pounds.\")\n",
        "        self.label.pack()\n",
        "\n",
        "        self.weight_in_kg = Tk.StringVar()\n",
        "        Tk.Entry(self.root, textvariable=self.weight_in_kg).pack()\n",
        "\n",
        "        self.buttontext = Tk.StringVar()\n",
        "        self.buttontext.set(\"Calculate\")\n",
        "        Tk.Button(self.root,\n",
        "                  textvariable=self.buttontext,\n",
        "                  command=self.clicked1).pack()\n",
        "\n",
        "        self.label = Tk.Label(self.root, text=\"\")\n",
        "        self.label.pack()\n",
        "\n",
        "        self.root.mainloop()\n",
        "\n",
        "    def clicked1(self):\n",
        "        weight_in_kg = self.weight_in_kg.get()\n",
        "        self.label.configure(text=weight_in_kg)\n",
        "\n",
        "    def button_click(self, e):\n",
        "        pass\n",
        "\nApp()"
      ],
      "outputs": [
        {
          "output_type": "execute_result",
          "execution_count": 9,
          "data": {
            "text/plain": [
              "<__main__.App at 0x8606b70>"
            ]
          },
          "metadata": {}
        }
      ],
      "execution_count": 9,
      "metadata": {
        "collapsed": false,
        "outputHidden": false,
        "inputHidden": false
      }
    }
  ],
  "metadata": {
    "kernel_info": {
      "name": "python3"
    },
    "kernelspec": {
      "name": "python3",
      "language": "python",
      "display_name": "Python 3"
    },
    "language_info": {
      "name": "python",
      "version": "3.6.4",
      "mimetype": "text/x-python",
      "codemirror_mode": {
        "name": "ipython",
        "version": 3
      },
      "pygments_lexer": "ipython3",
      "nbconvert_exporter": "python",
      "file_extension": ".py"
    },
    "nteract": {
      "version": "0.8.4"
    }
  },
  "nbformat": 4,
  "nbformat_minor": 4
}