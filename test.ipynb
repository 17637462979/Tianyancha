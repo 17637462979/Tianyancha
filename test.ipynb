{
  "cells": [
    {
      "cell_type": "code",
      "source": [
        "f = open('cookies.txt', 'r')\n",
        "dic_cookies = {}\n",
        "for line in f:\n",
        "    print (line)\n",
        "    listedline = line.split('\t') # split around the = sign\n",
        "    if len(listedline) > 1: # we have the = sign in there\n",
        "    dic_cookies[listedline[0]] = listedline[1]"
      ],
      "outputs": [],
      "execution_count": null,
      "metadata": {
        "collapsed": true
      }
    },
    {
      "cell_type": "code",
      "source": [
        "from tianyancha import Tianyancha"
      ],
      "outputs": [],
      "execution_count": null,
      "metadata": {
        "collapsed": false,
        "outputHidden": false,
        "inputHidden": false
      }
    },
    {
      "cell_type": "code",
      "source": [
        "Tianyancha(username='13488895246', password='abcd1234')"
      ],
      "outputs": [],
      "execution_count": null,
      "metadata": {
        "collapsed": false,
        "outputHidden": false,
        "inputHidden": false
      }
    },
    {
      "cell_type": "code",
      "source": [
        "import pandas as pd"
      ],
      "outputs": [],
      "execution_count": null,
      "metadata": {
        "collapsed": false,
        "outputHidden": false,
        "inputHidden": false
      }
    },
    {
      "cell_type": "code",
      "source": [
        "df = pd.read_csv('cookies_2.txt', header=None, sep='\\t')\n",
        "df.columns = ['domain', 'httpOnly', 'path', 'secure', 'expiry', 'name', 'value']"
      ],
      "outputs": [],
      "execution_count": null,
      "metadata": {
        "collapsed": false,
        "outputHidden": false,
        "inputHidden": false
      }
    },
    {
      "cell_type": "code",
      "source": [
        "df.to_json('cookies.txt', orient='records')"
      ],
      "outputs": [],
      "execution_count": null,
      "metadata": {
        "collapsed": false,
        "outputHidden": false,
        "inputHidden": false
      }
    },
    {
      "cell_type": "code",
      "source": [
        "from fake_useragent import UserAgent"
      ],
      "outputs": [],
      "execution_count": null,
      "metadata": {
        "collapsed": false,
        "outputHidden": false,
        "inputHidden": false
      }
    },
    {
      "cell_type": "code",
      "source": [
        "UserAgent(cache=False, use_cache_server=False, verify_ssl=False)#.chrome"
      ],
      "outputs": [],
      "execution_count": null,
      "metadata": {
        "collapsed": false,
        "outputHidden": false,
        "inputHidden": false
      }
    },
    {
      "cell_type": "code",
      "source": [
        "import pyautogui"
      ],
      "outputs": [],
      "execution_count": null,
      "metadata": {
        "collapsed": false,
        "outputHidden": false,
        "inputHidden": false
      }
    },
    {
      "cell_type": "code",
      "source": [
        "im2 = pyautogui.screenshot('my_screenshot.png')\n",
        "im2"
      ],
      "outputs": [],
      "execution_count": null,
      "metadata": {
        "collapsed": false,
        "outputHidden": false,
        "inputHidden": false
      }
    },
    {
      "cell_type": "code",
      "source": [
        "x, y = pyautogui.locateCenterOnScreen('login_option.png')\n",
        "print (x, y)\n",
        "pyautogui.click(x, y)\n",
        "\n",
        "x, y = pyautogui.locateCenterOnScreen('login_id.png')\n",
        "print (x, y)\n",
        "pyautogui.click(x, y)\n",
        "pyautogui.typewrite('13488895246')\n",
        "\n",
        "x, y = pyautogui.locateCenterOnScreen('login_password.png')\n",
        "print (x, y)\n",
        "pyautogui.click(x, y)\n",
        "pyautogui.typewrite('abcd1234')"
      ],
      "outputs": [],
      "execution_count": null,
      "metadata": {
        "collapsed": false,
        "outputHidden": false,
        "inputHidden": false
      }
    },
    {
      "cell_type": "code",
      "source": [
        "pyautogui.moveTo(x, y)"
      ],
      "outputs": [],
      "execution_count": null,
      "metadata": {
        "collapsed": false,
        "outputHidden": false,
        "inputHidden": false
      }
    },
    {
      "cell_type": "code",
      "source": [],
      "outputs": [],
      "execution_count": null,
      "metadata": {
        "collapsed": false,
        "outputHidden": false,
        "inputHidden": false
      }
    }
  ],
  "metadata": {
    "kernelspec": {
      "name": "python3",
      "language": "python",
      "display_name": "Python 3"
    },
    "language_info": {
      "name": "python",
      "version": "3.6.5",
      "mimetype": "text/x-python",
      "codemirror_mode": {
        "name": "ipython",
        "version": 3
      },
      "pygments_lexer": "ipython3",
      "nbconvert_exporter": "python",
      "file_extension": ".py"
    },
    "kernel_info": {
      "name": "python3"
    },
    "nteract": {
      "version": "0.12.3"
    }
  },
  "nbformat": 4,
  "nbformat_minor": 0
}