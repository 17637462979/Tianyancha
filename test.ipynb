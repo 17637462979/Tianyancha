{
  "cells": [
    {
      "cell_type": "markdown",
      "source": [
        "# 模拟登陆：Cookies"
      ],
      "metadata": {}
    },
    {
      "cell_type": "code",
      "source": [
        "f = open('cookies.txt', 'r')\n",
        "dic_cookies = {}\n",
        "for line in f:\n",
        "    print (line)\n",
        "    listedline = line.split('\t') # split around the = sign\n",
        "    if len(listedline) > 1: # we have the = sign in there\n",
        "    dic_cookies[listedline[0]] = listedline[1]"
      ],
      "outputs": [],
      "execution_count": null,
      "metadata": {
        "collapsed": true
      }
    },
    {
      "cell_type": "code",
      "source": [
        "import pandas as pd"
      ],
      "outputs": [],
      "execution_count": null,
      "metadata": {
        "collapsed": false,
        "outputHidden": false,
        "inputHidden": false
      }
    },
    {
      "cell_type": "code",
      "source": [
        "df = pd.read_csv('cookies_2.txt', header=None, sep='\\t')\n",
        "df.columns = ['domain', 'httpOnly', 'path', 'secure', 'expiry', 'name', 'value']"
      ],
      "outputs": [],
      "execution_count": null,
      "metadata": {
        "collapsed": false,
        "outputHidden": false,
        "inputHidden": false
      }
    },
    {
      "cell_type": "code",
      "source": [
        "df.to_json('cookies.txt', orient='records')"
      ],
      "outputs": [],
      "execution_count": null,
      "metadata": {
        "collapsed": false,
        "outputHidden": false,
        "inputHidden": false
      }
    },
    {
      "cell_type": "code",
      "source": [
        "from fake_useragent import UserAgent"
      ],
      "outputs": [],
      "execution_count": null,
      "metadata": {
        "collapsed": false,
        "outputHidden": false,
        "inputHidden": false
      }
    },
    {
      "cell_type": "code",
      "source": [
        "UserAgent(cache=False, use_cache_server=False, verify_ssl=False)#.chrome"
      ],
      "outputs": [],
      "execution_count": null,
      "metadata": {
        "collapsed": false,
        "outputHidden": false,
        "inputHidden": false
      }
    },
    {
      "cell_type": "markdown",
      "source": [
        "# 模拟登陆：GUI自动化"
      ],
      "metadata": {}
    },
    {
      "cell_type": "code",
      "source": [
        "import pyautogui"
      ],
      "outputs": [],
      "execution_count": 8,
      "metadata": {
        "collapsed": false,
        "outputHidden": false,
        "inputHidden": false
      }
    },
    {
      "cell_type": "code",
      "source": [
        "%%time\n",
        "\n",
        "# 防止用户已经将选项卡切换到了\"密码登录\"使得login_option.png因为下方出现蓝色小条而无法匹配，使用Try-Except提高程序稳健性\n",
        "try:\n",
        "    x, y = pyautogui.locateCenterOnScreen('login_option.png')\n",
        "    print (x, y)\n",
        "    pyautogui.click(x, y)\n",
        "except:\n",
        "    pass\n",
        "    \n",
        "x, y = pyautogui.locateCenterOnScreen('login_id.png')\n",
        "print (x, y)\n",
        "pyautogui.click(x, y)\n",
        "pyautogui.typewrite(self.username)\n",
        "\n",
        "x, y = pyautogui.locateCenterOnScreen('login_password.png')\n",
        "print (x, y)\n",
        "pyautogui.click(x, y)\n",
        "pyautogui.typewrite(self.password)\n",
        "\n",
        "x, y = pyautogui.locateCenterOnScreen('login_button.png')\n",
        "print (x, y)\n",
        "pyautogui.click(x, y)"
      ],
      "outputs": [
        {
          "output_type": "stream",
          "name": "stdout",
          "text": [
            "789 338\n",
            "625 428\n",
            "612 495\n",
            "736 604\n",
            "Wall time: 17.3 s\n"
          ]
        }
      ],
      "execution_count": 6,
      "metadata": {
        "collapsed": false,
        "outputHidden": false,
        "inputHidden": false
      }
    },
    {
      "cell_type": "markdown",
      "source": [
        "# "
      ],
      "metadata": {}
    }
  ],
  "metadata": {
    "kernelspec": {
      "name": "python3",
      "language": "python",
      "display_name": "Python 3"
    },
    "language_info": {
      "name": "python",
      "version": "3.6.5",
      "mimetype": "text/x-python",
      "codemirror_mode": {
        "name": "ipython",
        "version": 3
      },
      "pygments_lexer": "ipython3",
      "nbconvert_exporter": "python",
      "file_extension": ".py"
    },
    "kernel_info": {
      "name": "python3"
    },
    "nteract": {
      "version": "0.12.3"
    }
  },
  "nbformat": 4,
  "nbformat_minor": 0
}